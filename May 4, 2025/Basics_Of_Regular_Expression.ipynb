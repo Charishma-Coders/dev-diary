{
  "nbformat": 4,
  "nbformat_minor": 0,
  "metadata": {
    "colab": {
      "provenance": []
    },
    "kernelspec": {
      "name": "python3",
      "display_name": "Python 3"
    },
    "language_info": {
      "name": "python"
    }
  },
  "cells": [
    {
      "cell_type": "code",
      "source": [
        "import re\n",
        "\n",
        "text = \"I have 47502735 apples and 3 bananas\"\n",
        "match = re.search(r'\\d+', text)\n",
        "print(match.group())  # Output: 2\n"
      ],
      "metadata": {
        "colab": {
          "base_uri": "https://localhost:8080/"
        },
        "id": "4Ip1wlF1iteD",
        "outputId": "2b3b09d0-4fb3-43bb-c6d1-37d145411687"
      },
      "execution_count": 20,
      "outputs": [
        {
          "output_type": "stream",
          "name": "stdout",
          "text": [
            "47502735\n"
          ]
        }
      ]
    },
    {
      "cell_type": "code",
      "source": [
        "import re\n",
        "\n",
        "text = \"I have 47502735 apples and 10 bananas\"\n",
        "numbers = re.findall(r'\\d+', text)\n",
        "print(numbers)  # Output: ['2', '10']"
      ],
      "metadata": {
        "colab": {
          "base_uri": "https://localhost:8080/"
        },
        "id": "uQZ7lkGrP6LC",
        "outputId": "98f64a1a-54fb-4a64-db3a-fec773b78a7e"
      },
      "execution_count": 21,
      "outputs": [
        {
          "output_type": "stream",
          "name": "stdout",
          "text": [
            "['47502735', '10']\n"
          ]
        }
      ]
    },
    {
      "cell_type": "code",
      "source": [
        "import re\n",
        "a=\"charlie and the chocolate\"\n",
        "b=\"ayushi.jain@gmail.com\"\n",
        "c=\"hello\"\n",
        "d=\"xyz,yz,xyzz,xyyz,xxzzy,zyz,xxy\"\n",
        "\n",
        "match=re.search(r'\\.',b);\n",
        "print(match)"
      ],
      "metadata": {
        "colab": {
          "base_uri": "https://localhost:8080/"
        },
        "id": "ou5LeZDnkG9U",
        "outputId": "4d0026cc-b183-4603-aa43-9a36a262a4a0"
      },
      "execution_count": 2,
      "outputs": [
        {
          "output_type": "stream",
          "name": "stdout",
          "text": [
            "<re.Match object; span=(6, 7), match='.'>\n"
          ]
        }
      ]
    },
    {
      "cell_type": "code",
      "source": [
        "print(match.group())\n",
        "print(match.span());"
      ],
      "metadata": {
        "colab": {
          "base_uri": "https://localhost:8080/"
        },
        "id": "vxQcV4hWkgH7",
        "outputId": "38f377f8-c92a-413e-b848-8bb2f261e252"
      },
      "execution_count": 27,
      "outputs": [
        {
          "output_type": "stream",
          "name": "stdout",
          "text": [
            ".\n",
            "(6, 7)\n"
          ]
        }
      ]
    },
    {
      "cell_type": "code",
      "source": [
        "import re\n",
        "a=\"charlie and the chocolate\"\n",
        "b=\"ayushi.jain@gmail.com\"\n",
        "c=\"hello\"\n",
        "d=\"xyz,yz,xyzz,xyyz,xxzzy,zyz,xxy\"\n",
        "\n",
        "match=re.search(r'[@]',b);\n",
        "print(match)\n",
        "\n",
        "match=re.findall(r'[a]',b)\n",
        "print(match)"
      ],
      "metadata": {
        "colab": {
          "base_uri": "https://localhost:8080/"
        },
        "id": "Sr4B_R62FYF2",
        "outputId": "65c6ed2c-9e7f-4e37-b6c6-ab36588880c5"
      },
      "execution_count": 7,
      "outputs": [
        {
          "output_type": "stream",
          "name": "stdout",
          "text": [
            "<re.Match object; span=(11, 12), match='@'>\n",
            "['a', 'a', 'a']\n"
          ]
        }
      ]
    },
    {
      "cell_type": "code",
      "source": [
        "import re\n",
        "a=\"charlie and the chocolate\"\n",
        "b=\"ayushi.jain@gmail.com\"\n",
        "c=\"hello\"\n",
        "d=\"xyz,yz,xyzz,xyyz,xxzzy,zyz,xxy\"\n",
        "\n",
        "match=re.search(r'^c',b)\n",
        "# match=re.search(r'a',b)\n",
        "print(match)"
      ],
      "metadata": {
        "colab": {
          "base_uri": "https://localhost:8080/"
        },
        "id": "nvOfwut9FX8J",
        "outputId": "0a25c5f9-cb89-4f51-a235-abea918cc5c4"
      },
      "execution_count": 9,
      "outputs": [
        {
          "output_type": "stream",
          "name": "stdout",
          "text": [
            "<re.Match object; span=(0, 1), match='a'>\n"
          ]
        }
      ]
    },
    {
      "cell_type": "code",
      "source": [
        "import re\n",
        "a=\"charlie and the chocolate\"\n",
        "b=\"ayushi.jain@gmail.com\"\n",
        "c=\"hello\"\n",
        "d=\"xyz,yz,xyzz,xyyz,xxzzy,zyz,xxy\"\n",
        "\n",
        "# match=re.search(r'com',b)\n",
        "match=re.search(r'com$',b)\n",
        "print(match)"
      ],
      "metadata": {
        "colab": {
          "base_uri": "https://localhost:8080/"
        },
        "id": "caKpN8DQFX4w",
        "outputId": "f2b56f1f-8c1f-4b6d-c792-beb30aa4f032"
      },
      "execution_count": 15,
      "outputs": [
        {
          "output_type": "stream",
          "name": "stdout",
          "text": [
            "<re.Match object; span=(18, 21), match='com'>\n"
          ]
        }
      ]
    },
    {
      "cell_type": "code",
      "source": [
        "import re\n",
        "a=\"charlie chaplin coa and the chocolate factory\"\n",
        "b=\"ayushi.jain@gmail.com\"\n",
        "c=\"hello\"\n",
        "d=\"xyz,yz,xyzz,xyyz,xxzzy,zyz,xxy\"\n",
        "\n",
        "match=re.findall(r'c.a',a)\n",
        "print(match)"
      ],
      "metadata": {
        "colab": {
          "base_uri": "https://localhost:8080/"
        },
        "id": "5D5w5iqHFX2a",
        "outputId": "b65b2ae6-0148-4423-9f3f-8a1846d5414e"
      },
      "execution_count": 17,
      "outputs": [
        {
          "output_type": "stream",
          "name": "stdout",
          "text": [
            "['cha', 'cha', 'coa']\n"
          ]
        }
      ]
    },
    {
      "cell_type": "code",
      "source": [
        "import re\n",
        "a=\"charlie chaplin coa and the upcha chocolate factory\"\n",
        "b=\"ayushi.jain@gmail.com\"\n",
        "c=\"hello\"\n",
        "d=\"xyz,yz,xyzz,xyyz,xxzzy,zyz,xxy\"\n",
        "\n",
        "match=re.findall(r'cha|fac',a)\n",
        "print(match)"
      ],
      "metadata": {
        "colab": {
          "base_uri": "https://localhost:8080/"
        },
        "id": "2H4Y2qu-ITHd",
        "outputId": "04ed931a-bb5c-4d28-b37a-a15ec75d38c9"
      },
      "execution_count": 19,
      "outputs": [
        {
          "output_type": "stream",
          "name": "stdout",
          "text": [
            "['cha', 'cha', 'cha', 'fac']\n"
          ]
        }
      ]
    },
    {
      "cell_type": "code",
      "source": [
        "import re\n",
        "a=\"charlie chaplin coa and the upcha chocolate factory\"\n",
        "b=\"ayushi.jain@gmail.com\"\n",
        "c=\"hello\"\n",
        "d=\"xyz,yz,xyzz,xyyz,xxzzy,zyz,xxy\"\n",
        "\n",
        "match=re.search(r'ali|tor',a)\n",
        "print(match)"
      ],
      "metadata": {
        "colab": {
          "base_uri": "https://localhost:8080/"
        },
        "id": "gampjtQ7ITEE",
        "outputId": "368650f6-e010-4bad-8d5b-c52d6bf778fc"
      },
      "execution_count": 20,
      "outputs": [
        {
          "output_type": "stream",
          "name": "stdout",
          "text": [
            "<re.Match object; span=(47, 50), match='tor'>\n"
          ]
        }
      ]
    },
    {
      "cell_type": "code",
      "source": [
        "import re\n",
        "a=\"charlie chchaplin ca and the chocolate factory\"\n",
        "b=\"ayushi.jain@gmail.com\"\n",
        "c=\"hello\"\n",
        "d=\"xyz,yz,xyzz,xyyz,xxzzy,zyz,xxy\"\n",
        "\n",
        "match=re.findall(r'ch*a',a)\n",
        "print(match)"
      ],
      "metadata": {
        "colab": {
          "base_uri": "https://localhost:8080/"
        },
        "id": "YW-W3XZJITBw",
        "outputId": "dabbbdbd-5d58-4db1-d92c-0dfe7824da43"
      },
      "execution_count": 27,
      "outputs": [
        {
          "output_type": "stream",
          "name": "stdout",
          "text": [
            "['cha', 'cha', 'ca']\n"
          ]
        }
      ]
    },
    {
      "cell_type": "code",
      "source": [
        "import re\n",
        "a=\"charlie chchaplin ca and the chocolate factory\"\n",
        "b=\"ayushi.jain@gmail.com\"\n",
        "c=\"hello\"\n",
        "d=\"xyz,yz,xyzz,xyyz,xxzzy,zyz,xxyyzz,xyzxyz\"\n",
        "\n",
        "match=re.findall(r'xy+z',d)\n",
        "print(match)"
      ],
      "metadata": {
        "colab": {
          "base_uri": "https://localhost:8080/"
        },
        "id": "9f-dqEZ3IS_M",
        "outputId": "8645db0d-cf27-4462-9160-3829de282713"
      },
      "execution_count": 29,
      "outputs": [
        {
          "output_type": "stream",
          "name": "stdout",
          "text": [
            "['xyz', 'xyz', 'xyyz', 'xyyz', 'xyz', 'xyz']\n"
          ]
        }
      ]
    },
    {
      "cell_type": "code",
      "source": [
        "import re\n",
        "a=\"charlie chchaplin ca and the chocolate factory\"\n",
        "b=\"ayushi.jain@gmail.com\"\n",
        "c=\"hello\"\n",
        "d=\"xyz,yz,xyzz,xyyyz,xxzzy,zyz,xxy,yyz\"\n",
        "\n",
        "match=re.findall(r'y{2,4}',d)\n",
        "print(match)"
      ],
      "metadata": {
        "colab": {
          "base_uri": "https://localhost:8080/"
        },
        "id": "MpoGODNEIS8j",
        "outputId": "b9060f6f-86ec-475c-decb-4641b72f6394"
      },
      "execution_count": 34,
      "outputs": [
        {
          "output_type": "stream",
          "name": "stdout",
          "text": [
            "['yyy', 'yy']\n"
          ]
        }
      ]
    },
    {
      "cell_type": "code",
      "source": [
        "import re\n",
        "a=\"charlie chchaplin ca and the chocolate factory\"\n",
        "b=\"ayushi.jain@gmail.com\"\n",
        "c=\"hello\"\n",
        "d=\"xyz,yz,xyzz,xyyyz,xxzzy,zyz,xxyyzz,xyzxyz\"\n",
        "\n",
        "match=re.findall(r'(x|z)yz',d)\n",
        "print(match)"
      ],
      "metadata": {
        "colab": {
          "base_uri": "https://localhost:8080/"
        },
        "id": "ofCJe9SlIS5_",
        "outputId": "6a198c3c-d4b9-4713-e8d7-9c29dfddefba"
      },
      "execution_count": 36,
      "outputs": [
        {
          "output_type": "stream",
          "name": "stdout",
          "text": [
            "['x', 'x', 'z', 'x', 'x']\n"
          ]
        }
      ]
    },
    {
      "cell_type": "markdown",
      "source": [
        "### Special Sequence in RegEx"
      ],
      "metadata": {
        "id": "gY4xyqFuS7KM"
      }
    },
    {
      "cell_type": "code",
      "source": [
        "a=\"harry potter\"\n",
        "match=re.search(r'\\Ahar',a)\n",
        "print(match)\n",
        "\n",
        "match=re.search(r'\\Apot',a)\n",
        "print(match)"
      ],
      "metadata": {
        "colab": {
          "base_uri": "https://localhost:8080/"
        },
        "id": "ftOERRgpFXzv",
        "outputId": "a39b5030-9428-4bf9-db9a-fe8be9547d97"
      },
      "execution_count": 38,
      "outputs": [
        {
          "output_type": "stream",
          "name": "stdout",
          "text": [
            "<re.Match object; span=(0, 3), match='har'>\n",
            "None\n"
          ]
        }
      ]
    },
    {
      "cell_type": "code",
      "source": [
        "a=\"harry potter\"\n",
        "match=re.search(r'\\bh',a)\n",
        "print(match)\n",
        "\n",
        "match=re.search(r'h\\b',a)\n",
        "print(match)"
      ],
      "metadata": {
        "colab": {
          "base_uri": "https://localhost:8080/"
        },
        "id": "z-ltJ4GiFXxS",
        "outputId": "feaf0b40-8da0-446c-9ef5-8c32ca6e5912"
      },
      "execution_count": 40,
      "outputs": [
        {
          "output_type": "stream",
          "name": "stdout",
          "text": [
            "<re.Match object; span=(0, 1), match='h'>\n",
            "None\n"
          ]
        }
      ]
    },
    {
      "cell_type": "code",
      "source": [
        "a=\"harry potter\"\n",
        "match=re.search(r'\\Ber',a)\n",
        "print(match)\n",
        "\n",
        "match=re.search(r'ha\\B',a)\n",
        "print(match)"
      ],
      "metadata": {
        "colab": {
          "base_uri": "https://localhost:8080/"
        },
        "id": "KCzJGlRtFXuw",
        "outputId": "f80b36c7-3bb9-45aa-f80d-3cff5cdd6903"
      },
      "execution_count": 41,
      "outputs": [
        {
          "output_type": "stream",
          "name": "stdout",
          "text": [
            "<re.Match object; span=(10, 12), match='er'>\n",
            "<re.Match object; span=(0, 2), match='ha'>\n"
          ]
        }
      ]
    },
    {
      "cell_type": "code",
      "source": [
        "a=\"harr1 potter23 4@5\"\n",
        "match=re.findall(r'\\D',a)\n",
        "print(match)"
      ],
      "metadata": {
        "colab": {
          "base_uri": "https://localhost:8080/"
        },
        "id": "YagbQbr8FXsX",
        "outputId": "cb38c3d5-a96a-4079-a56f-53353cd0ad5b"
      },
      "execution_count": 47,
      "outputs": [
        {
          "output_type": "stream",
          "name": "stdout",
          "text": [
            "['h', 'a', 'r', 'r', ' ', 'p', 'o', 't', 't', 'e', 'r', ' ', '@']\n"
          ]
        }
      ]
    },
    {
      "cell_type": "code",
      "source": [
        "a=\"harr1 potter23 4@5\"\n",
        "match=re.findall(r'\\s',a)\n",
        "print(match)"
      ],
      "metadata": {
        "colab": {
          "base_uri": "https://localhost:8080/"
        },
        "id": "EGwItMR2FXpn",
        "outputId": "11946067-3995-4831-dc8f-c6ddb6834570"
      },
      "execution_count": 48,
      "outputs": [
        {
          "output_type": "stream",
          "name": "stdout",
          "text": [
            "[' ', ' ']\n"
          ]
        }
      ]
    },
    {
      "cell_type": "code",
      "source": [
        "a=\"harr1 potter23 4@5\"\n",
        "match=re.findall(r'\\S',a)\n",
        "print(match)"
      ],
      "metadata": {
        "colab": {
          "base_uri": "https://localhost:8080/"
        },
        "id": "Jfpj4DLwFXmw",
        "outputId": "9310ca19-82a8-4da5-a067-fe287a86b37d"
      },
      "execution_count": 49,
      "outputs": [
        {
          "output_type": "stream",
          "name": "stdout",
          "text": [
            "['h', 'a', 'r', 'r', '1', 'p', 'o', 't', 't', 'e', 'r', '2', '3', '4', '@', '5']\n"
          ]
        }
      ]
    },
    {
      "cell_type": "code",
      "source": [
        "a=\"harr1 potter23 4@5\"\n",
        "match=re.findall(r'\\w',a)\n",
        "print(match)"
      ],
      "metadata": {
        "colab": {
          "base_uri": "https://localhost:8080/"
        },
        "id": "OXiSn6DsFXkJ",
        "outputId": "9720dfc6-1392-41eb-9039-b8ba939bf240"
      },
      "execution_count": 50,
      "outputs": [
        {
          "output_type": "stream",
          "name": "stdout",
          "text": [
            "['h', 'a', 'r', 'r', '1', 'p', 'o', 't', 't', 'e', 'r', '2', '3', '4', '5']\n"
          ]
        }
      ]
    },
    {
      "cell_type": "code",
      "source": [
        "a=\"harr1 potter23 4@5\"\n",
        "match=re.findall(r'\\W',a)\n",
        "print(match)"
      ],
      "metadata": {
        "colab": {
          "base_uri": "https://localhost:8080/"
        },
        "id": "g5azn5yTFXhZ",
        "outputId": "3382deac-1e08-4dd4-a64d-79a0fc7973fa"
      },
      "execution_count": 51,
      "outputs": [
        {
          "output_type": "stream",
          "name": "stdout",
          "text": [
            "[' ', ' ', '@']\n"
          ]
        }
      ]
    },
    {
      "cell_type": "code",
      "source": [
        "a=\"harry1 potter23 4@5\"\n",
        "match=re.findall(r'h\\Z',a)\n",
        "print(match)\n",
        "\n",
        "match=re.findall(r'@5\\Z',a)\n",
        "print(match)"
      ],
      "metadata": {
        "colab": {
          "base_uri": "https://localhost:8080/"
        },
        "id": "ZAAayz8DFXe-",
        "outputId": "4e90c31f-4ff9-4e83-9092-0b6cb0ef6b69"
      },
      "execution_count": 54,
      "outputs": [
        {
          "output_type": "stream",
          "name": "stdout",
          "text": [
            "[]\n",
            "['@5']\n"
          ]
        }
      ]
    },
    {
      "cell_type": "code",
      "source": [
        "a='charishma+pothireddy'\n",
        "match=re.search(r'\\+',a)\n",
        "print(match)"
      ],
      "metadata": {
        "colab": {
          "base_uri": "https://localhost:8080/"
        },
        "id": "tXY03GgrU3ig",
        "outputId": "c064d209-bc34-43c1-e149-080499c4c655"
      },
      "execution_count": 56,
      "outputs": [
        {
          "output_type": "stream",
          "name": "stdout",
          "text": [
            "<re.Match object; span=(9, 10), match='+'>\n"
          ]
        }
      ]
    },
    {
      "cell_type": "code",
      "source": [
        "import re\n",
        "a=\"\"\"John has scored 89 marks\n",
        "Lisa has scored 90 marks\n",
        "David has scored 70 marks\"\"\"\n",
        "\n",
        "print(re.findall(r\"[A-Z][a-z]*\",a))"
      ],
      "metadata": {
        "colab": {
          "base_uri": "https://localhost:8080/"
        },
        "id": "af6I-zpEZojE",
        "outputId": "bd765046-3799-43bc-ad52-bd92c565d657"
      },
      "execution_count": 60,
      "outputs": [
        {
          "output_type": "stream",
          "name": "stdout",
          "text": [
            "['John', 'Lisa', 'David', 'H']\n"
          ]
        }
      ]
    },
    {
      "cell_type": "code",
      "source": [
        "import re\n",
        "a=\"\"\"John has scored 89 marks\n",
        "Lisa has scored 90 marks\n",
        "David has scored 70 marks\"\"\"\n",
        "\n",
        "p=re.compile(r'\\d+')\n",
        "print(p.findall(a))"
      ],
      "metadata": {
        "colab": {
          "base_uri": "https://localhost:8080/"
        },
        "id": "x0_vTvB5U3fC",
        "outputId": "538c7cee-ebf2-41ae-8ad7-0de42ef88cd6"
      },
      "execution_count": 61,
      "outputs": [
        {
          "output_type": "stream",
          "name": "stdout",
          "text": [
            "['89', '90', '70']\n"
          ]
        }
      ]
    },
    {
      "cell_type": "code",
      "source": [
        "import re\n",
        "a=\"\"\"John has scored 89 marks\n",
        "Lisa has scored 90 marks\n",
        "David has scored 70 marks\"\"\"\n",
        "\n",
        "match=re.split('\\d+',a)\n",
        "print(match)"
      ],
      "metadata": {
        "colab": {
          "base_uri": "https://localhost:8080/"
        },
        "id": "fXCEq2wMU3ce",
        "outputId": "9cae6614-8748-40cd-9547-409455dfc9f1"
      },
      "execution_count": 62,
      "outputs": [
        {
          "output_type": "stream",
          "name": "stdout",
          "text": [
            "['John has scored ', ' marks\\nLisa has scored ', ' marks\\nDavid has scored ', ' marks']\n"
          ]
        }
      ]
    },
    {
      "cell_type": "code",
      "source": [
        "import re\n",
        "a=\"\"\"John has scored 89 marks\n",
        "Lisa has scored 90 marks\n",
        "David has scored 70 marks\"\"\"\n",
        "\n",
        "print(re.sub(\"\\s+\",\"\",a))"
      ],
      "metadata": {
        "colab": {
          "base_uri": "https://localhost:8080/"
        },
        "id": "fGpXjUtzU3Zk",
        "outputId": "ca4b595d-66b9-4909-f0a1-f6748a4e1fb3"
      },
      "execution_count": 63,
      "outputs": [
        {
          "output_type": "stream",
          "name": "stdout",
          "text": [
            "Johnhasscored89marksLisahasscored90marksDavidhasscored70marks\n"
          ]
        }
      ]
    },
    {
      "cell_type": "code",
      "source": [
        "import re\n",
        "a=\"\"\"John has scored 89 marks\n",
        "Lisa has scored 90 marks\n",
        "David has scored 70 marks\"\"\"\n",
        "\n",
        "print(re.subn(\"\\s+\",\"\",a))"
      ],
      "metadata": {
        "colab": {
          "base_uri": "https://localhost:8080/"
        },
        "id": "yrtFprvAU3XC",
        "outputId": "69889887-d3a7-4b12-95a4-afb3a99155aa"
      },
      "execution_count": 65,
      "outputs": [
        {
          "output_type": "stream",
          "name": "stdout",
          "text": [
            "Johnhasscored89marksLisahasscored90marksDavidhasscored70marks\n"
          ]
        }
      ]
    },
    {
      "cell_type": "code",
      "source": [
        "import re\n",
        "a=\"\"\"John has scored 89 marks\n",
        "Lisa has scored 90 marks\n",
        "David has scored 70 marks\"\"\"\n",
        "\n",
        "print(re.escape(a))"
      ],
      "metadata": {
        "colab": {
          "base_uri": "https://localhost:8080/"
        },
        "id": "Xx06ysKJU3Uu",
        "outputId": "e1425bce-21bd-4225-eb4e-11929fbc3eff"
      },
      "execution_count": 66,
      "outputs": [
        {
          "output_type": "stream",
          "name": "stdout",
          "text": [
            "John\\ has\\ scored\\ 89\\ marks\\\n",
            "Lisa\\ has\\ scored\\ 90\\ marks\\\n",
            "David\\ has\\ scored\\ 70\\ marks\n"
          ]
        }
      ]
    },
    {
      "cell_type": "code",
      "source": [
        "import re\n",
        "pattern = re.escape(\"1 + 1 = 2\")\n",
        "print(pattern)\n",
        "\n",
        "\n",
        "text=\"in my current learnings. 1 + 1 = 2 i learned this\"\n",
        "print(re.findall(pattern,text))"
      ],
      "metadata": {
        "colab": {
          "base_uri": "https://localhost:8080/"
        },
        "id": "kohZACjUU3SE",
        "outputId": "93282846-04c0-4283-c762-85aa12fd6335"
      },
      "execution_count": 68,
      "outputs": [
        {
          "output_type": "stream",
          "name": "stdout",
          "text": [
            "1\\ \\+\\ 1\\ =\\ 2\n",
            "['1 + 1 = 2']\n"
          ]
        }
      ]
    },
    {
      "cell_type": "markdown",
      "source": [
        "### Match Object"
      ],
      "metadata": {
        "id": "22VGz_RNfW1o"
      }
    },
    {
      "cell_type": "code",
      "source": [
        "import re\n",
        "a=\"John has scored 98 marks\"\n",
        "\n",
        "match=re.search(\"\\d+\",a)\n",
        "print(match)\n",
        "print(match.re)\n",
        "print(match.string)\n",
        "print(match.start())\n",
        "print(match.end())\n",
        "print(match.span())\n",
        "print(match.group())"
      ],
      "metadata": {
        "colab": {
          "base_uri": "https://localhost:8080/"
        },
        "id": "lv02lLoofWqg",
        "outputId": "ce47f0cd-d936-4eea-b75c-0d64cf357ea3"
      },
      "execution_count": 71,
      "outputs": [
        {
          "output_type": "stream",
          "name": "stdout",
          "text": [
            "<re.Match object; span=(16, 18), match='98'>\n",
            "re.compile('\\\\d+')\n",
            "John has scored 98 marks\n",
            "16\n",
            "18\n",
            "(16, 18)\n",
            "98\n"
          ]
        }
      ]
    },
    {
      "cell_type": "code",
      "source": [
        "import re\n",
        "a=\"John has scored 98 marks\"\n",
        "\n",
        "match=re.search(\"\\w{2} s\",a)\n",
        "print(match)\n",
        "print(match.re)\n",
        "print(match.string)\n",
        "print(match.start())\n",
        "print(match.end())\n",
        "print(match.span())\n",
        "print(match.group())"
      ],
      "metadata": {
        "colab": {
          "base_uri": "https://localhost:8080/"
        },
        "id": "b-9CpDpTfWnA",
        "outputId": "7ddc9699-4030-48a1-823e-b61d3e956529"
      },
      "execution_count": 74,
      "outputs": [
        {
          "output_type": "stream",
          "name": "stdout",
          "text": [
            "<re.Match object; span=(6, 10), match='as s'>\n",
            "re.compile('\\\\w{2} s')\n",
            "John has scored 98 marks\n",
            "6\n",
            "10\n",
            "(6, 10)\n",
            "as s\n"
          ]
        }
      ]
    },
    {
      "cell_type": "code",
      "source": [
        "import re\n",
        "phn=\"222-444-8787\"\n",
        "phn2=\"222-1444-8787\"\n",
        "\n",
        "if re.search(\"\\d{3}-\\d{3}-\\d{4}\",phn):\n",
        "  print(\"It is a verified number\")\n",
        "else:\n",
        "  print(\"Incorrect number\")\n",
        "\n",
        "if re.search(\"\\d{3}-\\d{3}-\\d{4}\",phn2):\n",
        "  print(\"It is a verified number\")\n",
        "else:\n",
        "  print(\"Incorrect number\")"
      ],
      "metadata": {
        "colab": {
          "base_uri": "https://localhost:8080/"
        },
        "id": "pigk_vN8fWkY",
        "outputId": "887e67cf-eed2-49b0-b4c9-60611efb350d"
      },
      "execution_count": 84,
      "outputs": [
        {
          "output_type": "stream",
          "name": "stdout",
          "text": [
            "It is a verified number\n",
            "Incorrect number\n"
          ]
        }
      ]
    },
    {
      "cell_type": "code",
      "source": [
        "import re\n",
        "\n",
        "email=\"john78@gmail.com john@.com david.989@yahoo.com\"\n",
        "\n",
        "print(re.findall(\"[\\w._%]{0,20}@[\\w-].[A-Za-z]{2,3}\",email))"
      ],
      "metadata": {
        "colab": {
          "base_uri": "https://localhost:8080/"
        },
        "id": "majmN89JfWhy",
        "outputId": "5a396519-8abb-4d6a-f070-1f52de331bab"
      },
      "execution_count": 85,
      "outputs": [
        {
          "output_type": "stream",
          "name": "stdout",
          "text": [
            "['john78@gmail', 'david.989@yahoo']\n"
          ]
        }
      ]
    },
    {
      "cell_type": "code",
      "source": [
        "import urllib.request\n",
        "from re import findall\n",
        "\n",
        "url=\"https://www.summet.com/dmsi/html/codesamples/addresses.html\"\n",
        "\n",
        "a=urllib.request.urlopen(url)\n",
        "html=a.read()\n",
        "htmlstr=html.decode()\n",
        "phn=findall(\"\\(\\d{3}\\) \\d{3}-\\d{4}\",htmlstr)\n",
        "\n",
        "for i in phn:\n",
        "  print(i)"
      ],
      "metadata": {
        "colab": {
          "base_uri": "https://localhost:8080/"
        },
        "id": "w_1pCHgofWfK",
        "outputId": "18e3ff74-9ca0-4abb-c767-7f6d36d42ecf"
      },
      "execution_count": 86,
      "outputs": [
        {
          "output_type": "stream",
          "name": "stdout",
          "text": [
            "(257) 563-7401\n",
            "(372) 587-2335\n",
            "(786) 713-8616\n",
            "(793) 151-6230\n",
            "(492) 709-6392\n",
            "(654) 393-5734\n",
            "(404) 960-3807\n",
            "(314) 244-6306\n",
            "(947) 278-5929\n",
            "(684) 579-1879\n",
            "(389) 737-2852\n",
            "(660) 663-4518\n",
            "(608) 265-2215\n",
            "(959) 119-8364\n",
            "(468) 353-2641\n",
            "(248) 675-4007\n",
            "(939) 353-1107\n",
            "(570) 873-7090\n",
            "(302) 259-2375\n",
            "(717) 450-4729\n",
            "(453) 391-4650\n",
            "(559) 104-5475\n",
            "(387) 142-9434\n",
            "(516) 745-4496\n",
            "(326) 677-3419\n",
            "(746) 679-2470\n",
            "(455) 430-0989\n",
            "(490) 936-4694\n",
            "(985) 834-8285\n",
            "(662) 661-1446\n",
            "(802) 668-8240\n",
            "(477) 768-9247\n",
            "(791) 239-9057\n",
            "(832) 109-0213\n",
            "(837) 196-3274\n",
            "(268) 442-2428\n",
            "(850) 676-5117\n",
            "(861) 546-5032\n",
            "(176) 805-4108\n",
            "(715) 912-6931\n",
            "(993) 554-0563\n",
            "(357) 616-5411\n",
            "(121) 347-0086\n",
            "(304) 506-6314\n",
            "(425) 288-2332\n",
            "(145) 987-4962\n",
            "(187) 582-9707\n",
            "(750) 558-3965\n",
            "(492) 467-3131\n",
            "(774) 914-2510\n",
            "(888) 106-8550\n",
            "(539) 567-3573\n",
            "(693) 337-2849\n",
            "(545) 604-9386\n",
            "(221) 156-5026\n",
            "(414) 876-0865\n",
            "(932) 726-8645\n",
            "(726) 710-9826\n",
            "(622) 594-1662\n",
            "(948) 600-8503\n",
            "(605) 900-7508\n",
            "(716) 977-5775\n",
            "(368) 239-8275\n",
            "(725) 342-0650\n",
            "(711) 993-5187\n",
            "(882) 399-5084\n",
            "(287) 755-9948\n",
            "(659) 551-3389\n",
            "(275) 730-6868\n",
            "(725) 757-4047\n",
            "(314) 882-1496\n",
            "(639) 360-7590\n",
            "(168) 222-1592\n",
            "(896) 303-1164\n",
            "(203) 982-6130\n",
            "(906) 217-1470\n",
            "(614) 514-1269\n",
            "(763) 409-5446\n",
            "(836) 292-5324\n",
            "(926) 709-3295\n",
            "(963) 356-9268\n",
            "(736) 522-8584\n",
            "(410) 483-0352\n",
            "(252) 204-1434\n",
            "(874) 886-4174\n",
            "(581) 379-7573\n",
            "(983) 632-8597\n",
            "(295) 983-3476\n",
            "(873) 392-8802\n",
            "(360) 669-3923\n",
            "(840) 987-9449\n",
            "(422) 517-6053\n",
            "(126) 940-2753\n",
            "(427) 930-5255\n",
            "(689) 721-5145\n",
            "(676) 334-2174\n",
            "(437) 994-5270\n",
            "(564) 908-6970\n",
            "(577) 333-6244\n",
            "(655) 840-6139\n"
          ]
        }
      ]
    },
    {
      "cell_type": "code",
      "source": [],
      "metadata": {
        "id": "GY5Ha60pfWcr"
      },
      "execution_count": null,
      "outputs": []
    },
    {
      "cell_type": "code",
      "source": [],
      "metadata": {
        "id": "W1AgTSPNU3Pl"
      },
      "execution_count": null,
      "outputs": []
    }
  ]
}