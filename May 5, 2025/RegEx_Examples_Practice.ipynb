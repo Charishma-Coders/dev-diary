{
  "nbformat": 4,
  "nbformat_minor": 0,
  "metadata": {
    "colab": {
      "provenance": []
    },
    "kernelspec": {
      "name": "python3",
      "display_name": "Python 3"
    },
    "language_info": {
      "name": "python"
    }
  },
  "cells": [
    {
      "cell_type": "markdown",
      "source": [
        "### Practiced from w3resource"
      ],
      "metadata": {
        "id": "rFbkW_eEXbaD"
      }
    },
    {
      "cell_type": "markdown",
      "source": [
        "### 1. Write a Python program to check that a string contains only a certain set of characters (in this case a-z, A-Z and 0-9)."
      ],
      "metadata": {
        "id": "DaCwzZRdUqgy"
      }
    },
    {
      "cell_type": "code",
      "source": [
        "import re\n",
        "\n",
        "def is_allowed_specific_char(string):\n",
        "  return not bool(re.search(r'[^a-zA-Z0-9]',string))\n",
        "\n",
        "print(is_allowed_specific_char(\"ABCDEFabcdef123450\"))\n",
        "print(is_allowed_specific_char(\"*&%@#!}{\"))"
      ],
      "metadata": {
        "colab": {
          "base_uri": "https://localhost:8080/"
        },
        "id": "HdEiymZNUqSA",
        "outputId": "4cd0774b-18db-4d1a-82f2-8ac6ef8a400f"
      },
      "execution_count": null,
      "outputs": [
        {
          "output_type": "stream",
          "name": "stdout",
          "text": [
            "True\n",
            "False\n"
          ]
        }
      ]
    },
    {
      "cell_type": "markdown",
      "source": [
        "### 2. Write a Python program that matches a string that has an a followed by zero or more b's."
      ],
      "metadata": {
        "id": "kU4bzUvwzzE3"
      }
    },
    {
      "cell_type": "code",
      "source": [
        "import re\n",
        "\n",
        "def a_followed_by_zero_or_more_b(string):\n",
        "  pattern=r'ab*'\n",
        "  return bool(re.fullmatch(pattern,string))\n",
        "\n",
        "print(a_followed_by_zero_or_more_b(\"ac\"))\n",
        "print(a_followed_by_zero_or_more_b(\"abc\"))\n",
        "print(a_followed_by_zero_or_more_b(\"a\"))\n",
        "print(a_followed_by_zero_or_more_b(\"ab\"))\n",
        "print(a_followed_by_zero_or_more_b(\"abb\"))"
      ],
      "metadata": {
        "colab": {
          "base_uri": "https://localhost:8080/"
        },
        "id": "zyDBNGOeUqL6",
        "outputId": "6e2f829d-d33a-463c-9cb9-985917025bb4"
      },
      "execution_count": null,
      "outputs": [
        {
          "output_type": "stream",
          "name": "stdout",
          "text": [
            "False\n",
            "False\n",
            "True\n",
            "True\n",
            "True\n"
          ]
        }
      ]
    },
    {
      "cell_type": "markdown",
      "source": [
        "### 3. Write a Python program that matches a string that has an a followed by one or more b's."
      ],
      "metadata": {
        "id": "-pDeI4qd5CPq"
      }
    },
    {
      "cell_type": "code",
      "source": [
        "import re\n",
        "\n",
        "def a_followed_by_one_or_more_b(string):\n",
        "  return bool(re.fullmatch(r'ab+',string))\n",
        "\n",
        "print(a_followed_by_one_or_more_b(\"abbbb\"))\n",
        "print(a_followed_by_one_or_more_b(\"a\"))"
      ],
      "metadata": {
        "colab": {
          "base_uri": "https://localhost:8080/"
        },
        "id": "OX83TGqSUqGu",
        "outputId": "44d318ac-ec48-4c08-b975-83497d2299eb"
      },
      "execution_count": null,
      "outputs": [
        {
          "output_type": "stream",
          "name": "stdout",
          "text": [
            "True\n",
            "False\n"
          ]
        }
      ]
    },
    {
      "cell_type": "markdown",
      "source": [
        "### 4. Write a Python program that matches a string that has an a followed by zero or one 'b'."
      ],
      "metadata": {
        "id": "FhVMC9n75aBC"
      }
    },
    {
      "cell_type": "code",
      "source": [
        "import re\n",
        "\n",
        "def a_followed_by_zero_or_one_b(string):\n",
        "  return bool(re.search(r'ab?',string))\n",
        "\n",
        "print(a_followed_by_zero_or_one_b(\"ab\"))\n",
        "print(a_followed_by_zero_or_one_b(\"abc\"))\n",
        "print(a_followed_by_zero_or_one_b(\"abbc\"))\n",
        "print(a_followed_by_zero_or_one_b(\"aabbc\"))"
      ],
      "metadata": {
        "colab": {
          "base_uri": "https://localhost:8080/"
        },
        "id": "YV_7TJAVUqBP",
        "outputId": "ba49c740-3759-438f-8d4b-b4d9a1e1acca"
      },
      "execution_count": null,
      "outputs": [
        {
          "output_type": "stream",
          "name": "stdout",
          "text": [
            "True\n",
            "True\n",
            "True\n",
            "True\n"
          ]
        }
      ]
    },
    {
      "cell_type": "markdown",
      "source": [
        "### 5. a Followed by Exactly 3 b's"
      ],
      "metadata": {
        "id": "QbzyCe3y8yge"
      }
    },
    {
      "cell_type": "code",
      "source": [
        "import re\n",
        "\n",
        "def a_followed_by_exactly_3_b(string):\n",
        "  return bool(re.search(r'ab{3}',string))\n",
        "\n",
        "print(a_followed_by_exactly_3_b(\"abbb\"))\n",
        "print(a_followed_by_exactly_3_b(\"aabbbbbc\"))"
      ],
      "metadata": {
        "colab": {
          "base_uri": "https://localhost:8080/"
        },
        "id": "z_ZXysBXUp8E",
        "outputId": "37a05230-9faf-4cbb-b600-9b973fa98896"
      },
      "execution_count": null,
      "outputs": [
        {
          "output_type": "stream",
          "name": "stdout",
          "text": [
            "True\n",
            "False\n"
          ]
        }
      ]
    },
    {
      "cell_type": "code",
      "source": [
        "import re\n",
        "\n",
        "def text_match(string):\n",
        "  return bool(re.fullmatch(r'[a-z]+_[a-z]+',string))\n",
        "\n",
        "print(text_match(\"aab_cbbbc\"))\n",
        "print(text_match(\"aab_Abbbc\"))\n",
        "print(text_match(\"Aaab_abbbc\"))"
      ],
      "metadata": {
        "colab": {
          "base_uri": "https://localhost:8080/"
        },
        "id": "gIb4DqXcUp2l",
        "outputId": "589eae5e-6a5b-49f6-c248-b8933507b54b"
      },
      "execution_count": null,
      "outputs": [
        {
          "output_type": "stream",
          "name": "stdout",
          "text": [
            "True\n",
            "False\n",
            "False\n"
          ]
        }
      ]
    },
    {
      "cell_type": "code",
      "source": [
        "import re\n",
        "def text_match(text):\n",
        "        patterns = 'a.*?b$'\n",
        "        if re.search(patterns,  text):\n",
        "                return 'Found a match!'\n",
        "        else:\n",
        "                return('Not matched!')\n",
        "\n",
        "print(text_match(\"aabbbbd\"))\n",
        "print(text_match(\"aabAbbbc\"))\n",
        "print(text_match(\"accddbbjjjb\"))\n"
      ],
      "metadata": {
        "colab": {
          "base_uri": "https://localhost:8080/"
        },
        "id": "MDbweE4DUpws",
        "outputId": "01447f14-e654-4213-f035-e21ae042d4d4"
      },
      "execution_count": null,
      "outputs": [
        {
          "output_type": "stream",
          "name": "stdout",
          "text": [
            "Not matched!\n",
            "Not matched!\n",
            "Found a match!\n"
          ]
        }
      ]
    },
    {
      "cell_type": "code",
      "source": [],
      "metadata": {
        "id": "wzbJwcZrUpqx"
      },
      "execution_count": null,
      "outputs": []
    },
    {
      "cell_type": "code",
      "source": [
        "# download stopwords\n",
        "import nltk\n",
        "nltk.download('stopwords')\n",
        "\n",
        "# import nltk for stopwords\n",
        "from nltk.corpus import stopwords\n",
        "stop_words = set(stopwords.words('english'))\n",
        "print(stop_words)\n",
        "\n",
        "print(\"---------------------------------------\")\n",
        "\n",
        "# assign string\n",
        "no_wspace_string='python released in was a major revision of the language that is not completely backward compatible and much python code does not run unmodified on python with python s endoflife only python x and later are supported with older versions still supporting eg windows and old installers not restricted to bit windows'\n",
        "\n",
        "# convert string to list of words\n",
        "lst_string = no_wspace_string.split()\n",
        "print(lst_string)\n",
        "\n",
        "print(\"--------------------------------\")\n",
        "\n",
        "# remove stopwords\n",
        "no_stpwords_string=\"\"\n",
        "for i in lst_string:\n",
        "\tif not i in stop_words:\n",
        "\t\tno_stpwords_string += i+' '\n",
        "\n",
        "# removing last space\n",
        "no_stpwords_string = no_stpwords_string[:-1]\n",
        "print(no_stpwords_string)\n"
      ],
      "metadata": {
        "id": "mVqfyB05UplR",
        "colab": {
          "base_uri": "https://localhost:8080/"
        },
        "outputId": "cd6b2079-3065-458a-b0e8-53a85fbde446"
      },
      "execution_count": null,
      "outputs": [
        {
          "output_type": "stream",
          "name": "stdout",
          "text": [
            "{'own', 'more', 'yourselves', 'has', 'just', \"i'll\", 'from', 'why', 'herself', 'she', 'such', 'as', 'above', 'it', 'once', 'don', 'the', 'out', 'haven', 'itself', 'at', 'm', \"mightn't\", 'our', \"won't\", 'against', 'you', 'theirs', 'him', \"aren't\", 'ourselves', 'does', 'will', 'when', 'during', 'be', \"don't\", 'not', 'very', 'am', 'ma', 'themselves', 'were', 'most', 'who', 'further', \"couldn't\", 'shouldn', 'is', 'won', 'hers', \"we'd\", 'o', 're', 'should', 'your', \"shan't\", \"she's\", \"needn't\", 'while', 'because', 's', 'doing', 'few', 'wouldn', \"doesn't\", 'same', 'y', 'do', 'of', \"mustn't\", 'needn', 'they', 'or', 'which', 'hadn', 'but', \"he'd\", 'll', 'wasn', 'so', 'we', 'under', \"i've\", 'until', 'below', 'ours', \"weren't\", \"that'll\", 'aren', \"i'd\", 'in', \"it's\", 'been', 'being', 'any', 'are', 'after', 'by', \"they're\", 'a', \"should've\", 'ain', 'yourself', 'having', 'myself', 'doesn', \"you'll\", 'over', 'to', 'her', 'd', 'again', \"she'll\", 'there', 'its', \"wasn't\", 'no', \"she'd\", \"we're\", 'other', 'them', \"they'll\", 'yours', \"shouldn't\", 'where', 'only', 'how', 'these', 'shan', 'this', 'he', 'off', 'i', \"wouldn't\", \"you're\", 'here', 'and', 'his', 'now', \"didn't\", 'did', 'if', \"isn't\", 'have', 'about', 'through', 'those', 'himself', \"i'm\", \"it'd\", 'with', \"he's\", 'all', 'each', 'then', \"you've\", 'nor', 'some', 'what', 'me', 'their', 'that', 'into', 'was', 'an', 've', \"haven't\", 'before', \"he'll\", 'weren', \"hasn't\", 'couldn', 'isn', \"it'll\", 'can', \"they've\", 'than', 'for', 'both', 'down', 'up', 't', \"you'd\", 'my', 'had', \"hadn't\", 'didn', 'between', 'on', 'mightn', \"we've\", 'hasn', 'mustn', 'too', \"we'll\", 'whom', \"they'd\"}\n",
            "---------------------------------------\n",
            "['python', 'released', 'in', 'was', 'a', 'major', 'revision', 'of', 'the', 'language', 'that', 'is', 'not', 'completely', 'backward', 'compatible', 'and', 'much', 'python', 'code', 'does', 'not', 'run', 'unmodified', 'on', 'python', 'with', 'python', 's', 'endoflife', 'only', 'python', 'x', 'and', 'later', 'are', 'supported', 'with', 'older', 'versions', 'still', 'supporting', 'eg', 'windows', 'and', 'old', 'installers', 'not', 'restricted', 'to', 'bit', 'windows']\n",
            "--------------------------------\n",
            "python released major revision language completely backward compatible much python code run unmodified python python endoflife python x later supported older versions still supporting eg windows old installers restricted bit windows\n"
          ]
        },
        {
          "output_type": "stream",
          "name": "stderr",
          "text": [
            "[nltk_data] Downloading package stopwords to /root/nltk_data...\n",
            "[nltk_data]   Package stopwords is already up-to-date!\n"
          ]
        }
      ]
    },
    {
      "cell_type": "code",
      "source": [],
      "metadata": {
        "id": "P44SFUVKUpf6"
      },
      "execution_count": null,
      "outputs": []
    },
    {
      "cell_type": "code",
      "source": [
        "# Input text String,\n",
        "# Convert all letters of the string to one case(either lower or upper case),\n",
        "# If numbers are essential to convert to words else remove all numbers,\n",
        "# Remove punctuations, other formalities of grammar,\n",
        "# Remove white spaces,\n",
        "# Remove stop words,"
      ],
      "metadata": {
        "id": "xKNKwNhUUpan"
      },
      "execution_count": null,
      "outputs": []
    },
    {
      "cell_type": "code",
      "source": [
        "import re\n",
        "\n",
        "text='python released in was a major revision of the language that is not completely backward compatible and much python code does not run unmodified on python with python s endoflife only python x and later are supported with older versions still supporting eg windows and old installers not restricted to bit windows'\n",
        "\n",
        "# converted to lower\n",
        "text=text.lower()\n",
        "\n",
        "# remove numbers\n",
        "text=re.sub(r'\\d+',\"\",text)\n",
        "\n",
        "# remove punctuations\n",
        "text=re.sub(r'[^\\w\\s]','',text)\n",
        "\n",
        "# remove white spaces\n",
        "text=text.split()\n",
        "\n",
        "print(text)\n",
        "\n",
        "# remove stop words\n",
        "import nltk\n",
        "nltk.download('stopwords')\n",
        "\n",
        "from nltk.corpus import stopwords\n",
        "\n",
        "stop_words=set(stopwords.words('english'))\n",
        "\n",
        "filtered_words=[word for word in text if word not in stop_words]\n",
        "print(' '.join(filtered_words))"
      ],
      "metadata": {
        "id": "CSr3BKKIUpVs",
        "colab": {
          "base_uri": "https://localhost:8080/"
        },
        "outputId": "7e7817ee-31c3-4a13-d99a-c2d509a4f875"
      },
      "execution_count": null,
      "outputs": [
        {
          "output_type": "stream",
          "name": "stdout",
          "text": [
            "['python', 'released', 'in', 'was', 'a', 'major', 'revision', 'of', 'the', 'language', 'that', 'is', 'not', 'completely', 'backward', 'compatible', 'and', 'much', 'python', 'code', 'does', 'not', 'run', 'unmodified', 'on', 'python', 'with', 'python', 's', 'endoflife', 'only', 'python', 'x', 'and', 'later', 'are', 'supported', 'with', 'older', 'versions', 'still', 'supporting', 'eg', 'windows', 'and', 'old', 'installers', 'not', 'restricted', 'to', 'bit', 'windows']\n",
            "python released major revision language completely backward compatible much python code run unmodified python python endoflife python x later supported older versions still supporting eg windows old installers restricted bit windows\n"
          ]
        },
        {
          "output_type": "stream",
          "name": "stderr",
          "text": [
            "[nltk_data] Downloading package stopwords to /root/nltk_data...\n",
            "[nltk_data]   Package stopwords is already up-to-date!\n"
          ]
        }
      ]
    },
    {
      "cell_type": "code",
      "execution_count": null,
      "metadata": {
        "id": "1FLqy0qMUfI-"
      },
      "outputs": [],
      "source": []
    },
    {
      "cell_type": "code",
      "source": [],
      "metadata": {
        "id": "ZbqXdVP0JFXt"
      },
      "execution_count": null,
      "outputs": []
    },
    {
      "cell_type": "code",
      "source": [],
      "metadata": {
        "id": "TMNdbHBjJFUS"
      },
      "execution_count": null,
      "outputs": []
    },
    {
      "cell_type": "code",
      "source": [],
      "metadata": {
        "id": "qUayB5qTJFR3"
      },
      "execution_count": null,
      "outputs": []
    },
    {
      "cell_type": "code",
      "source": [],
      "metadata": {
        "id": "lC44v9LqJFPU"
      },
      "execution_count": null,
      "outputs": []
    },
    {
      "cell_type": "code",
      "source": [],
      "metadata": {
        "id": "8vw-aNsdJFKi"
      },
      "execution_count": null,
      "outputs": []
    }
  ]
}